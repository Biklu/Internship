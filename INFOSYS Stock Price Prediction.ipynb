{
 "cells": [
  {
   "cell_type": "markdown",
   "metadata": {},
   "source": [
    "# Eckovation Internship on INFOSYS Stock Price Prediction"
   ]
  },
  {
   "cell_type": "markdown",
   "metadata": {},
   "source": [
    " Submitted By Biklu Bora"
   ]
  },
  {
   "cell_type": "markdown",
   "metadata": {},
   "source": [
    "### Importing Necessary Libraries "
   ]
  },
  {
   "cell_type": "code",
   "execution_count": 1,
   "metadata": {},
   "outputs": [
    {
     "name": "stderr",
     "output_type": "stream",
     "text": [
      "Using TensorFlow backend.\n"
     ]
    }
   ],
   "source": [
    "\n",
    "import pandas as pd\n",
    "import numpy as np\n",
    "import datetime as dt\n",
    "from datetime import datetime\n",
    "\n",
    "\n",
    "import matplotlib.pyplot as plt\n",
    "plt.style.use('ggplot') \n",
    "%matplotlib inline\n",
    "import seaborn as sns\n",
    "sns.set_style(\"whitegrid\")\n",
    "from sklearn.preprocessing import MinMaxScaler\n",
    "import warnings\n",
    "warnings.filterwarnings('ignore')\n",
    "\n",
    "### Create the Stacked LSTM model\n",
    "from tensorflow.keras.models import Sequential\n",
    "from tensorflow.keras.layers import Dense\n",
    "from tensorflow.keras.layers import LSTM\n",
    "from keras.layers import Dropout\n"
   ]
  },
  {
   "cell_type": "markdown",
   "metadata": {},
   "source": [
    "### Importing dataset"
   ]
  },
  {
   "cell_type": "code",
   "execution_count": 2,
   "metadata": {},
   "outputs": [
    {
     "data": {
      "text/html": [
       "<div>\n",
       "<style scoped>\n",
       "    .dataframe tbody tr th:only-of-type {\n",
       "        vertical-align: middle;\n",
       "    }\n",
       "\n",
       "    .dataframe tbody tr th {\n",
       "        vertical-align: top;\n",
       "    }\n",
       "\n",
       "    .dataframe thead th {\n",
       "        text-align: right;\n",
       "    }\n",
       "</style>\n",
       "<table border=\"1\" class=\"dataframe\">\n",
       "  <thead>\n",
       "    <tr style=\"text-align: right;\">\n",
       "      <th></th>\n",
       "      <th>Date</th>\n",
       "      <th>Symbol</th>\n",
       "      <th>Series</th>\n",
       "      <th>Prev Close</th>\n",
       "      <th>Open</th>\n",
       "      <th>High</th>\n",
       "      <th>Low</th>\n",
       "      <th>Last</th>\n",
       "      <th>Close</th>\n",
       "      <th>VWAP</th>\n",
       "      <th>Volume</th>\n",
       "      <th>Turnover</th>\n",
       "      <th>Trades</th>\n",
       "      <th>Deliverable Volume</th>\n",
       "      <th>%Deliverble</th>\n",
       "    </tr>\n",
       "  </thead>\n",
       "  <tbody>\n",
       "    <tr>\n",
       "      <td>0</td>\n",
       "      <td>1/3/2000</td>\n",
       "      <td>INFOSYSTCH</td>\n",
       "      <td>EQ</td>\n",
       "      <td>14467.75</td>\n",
       "      <td>15625.00</td>\n",
       "      <td>15625.20</td>\n",
       "      <td>15625.00</td>\n",
       "      <td>15625.20</td>\n",
       "      <td>15625.20</td>\n",
       "      <td>15625.18</td>\n",
       "      <td>5137</td>\n",
       "      <td>8.026660e+12</td>\n",
       "      <td>NaN</td>\n",
       "      <td>NaN</td>\n",
       "      <td>NaN</td>\n",
       "    </tr>\n",
       "    <tr>\n",
       "      <td>1</td>\n",
       "      <td>1/4/2000</td>\n",
       "      <td>INFOSYSTCH</td>\n",
       "      <td>EQ</td>\n",
       "      <td>15625.20</td>\n",
       "      <td>16800.00</td>\n",
       "      <td>16875.25</td>\n",
       "      <td>16253.00</td>\n",
       "      <td>16875.25</td>\n",
       "      <td>16855.90</td>\n",
       "      <td>16646.38</td>\n",
       "      <td>56186</td>\n",
       "      <td>9.352940e+13</td>\n",
       "      <td>NaN</td>\n",
       "      <td>NaN</td>\n",
       "      <td>NaN</td>\n",
       "    </tr>\n",
       "    <tr>\n",
       "      <td>2</td>\n",
       "      <td>1/5/2000</td>\n",
       "      <td>INFOSYSTCH</td>\n",
       "      <td>EQ</td>\n",
       "      <td>16855.90</td>\n",
       "      <td>15701.00</td>\n",
       "      <td>16250.00</td>\n",
       "      <td>15507.45</td>\n",
       "      <td>15507.45</td>\n",
       "      <td>15507.45</td>\n",
       "      <td>15786.38</td>\n",
       "      <td>164605</td>\n",
       "      <td>2.598520e+14</td>\n",
       "      <td>NaN</td>\n",
       "      <td>NaN</td>\n",
       "      <td>NaN</td>\n",
       "    </tr>\n",
       "    <tr>\n",
       "      <td>3</td>\n",
       "      <td>1/6/2000</td>\n",
       "      <td>INFOSYSTCH</td>\n",
       "      <td>EQ</td>\n",
       "      <td>15507.45</td>\n",
       "      <td>15256.65</td>\n",
       "      <td>15300.00</td>\n",
       "      <td>14266.85</td>\n",
       "      <td>14266.85</td>\n",
       "      <td>14266.85</td>\n",
       "      <td>14462.82</td>\n",
       "      <td>81997</td>\n",
       "      <td>1.185910e+14</td>\n",
       "      <td>NaN</td>\n",
       "      <td>NaN</td>\n",
       "      <td>NaN</td>\n",
       "    </tr>\n",
       "    <tr>\n",
       "      <td>4</td>\n",
       "      <td>1/7/2000</td>\n",
       "      <td>INFOSYSTCH</td>\n",
       "      <td>EQ</td>\n",
       "      <td>14266.85</td>\n",
       "      <td>13125.50</td>\n",
       "      <td>13125.50</td>\n",
       "      <td>13125.50</td>\n",
       "      <td>13125.50</td>\n",
       "      <td>13125.50</td>\n",
       "      <td>13125.50</td>\n",
       "      <td>7589</td>\n",
       "      <td>9.960940e+12</td>\n",
       "      <td>NaN</td>\n",
       "      <td>NaN</td>\n",
       "      <td>NaN</td>\n",
       "    </tr>\n",
       "    <tr>\n",
       "      <td>5</td>\n",
       "      <td>1/10/2000</td>\n",
       "      <td>INFOSYSTCH</td>\n",
       "      <td>EQ</td>\n",
       "      <td>13125.50</td>\n",
       "      <td>13125.50</td>\n",
       "      <td>14175.50</td>\n",
       "      <td>12075.50</td>\n",
       "      <td>13750.00</td>\n",
       "      <td>13757.30</td>\n",
       "      <td>13270.60</td>\n",
       "      <td>236175</td>\n",
       "      <td>3.134180e+14</td>\n",
       "      <td>NaN</td>\n",
       "      <td>NaN</td>\n",
       "      <td>NaN</td>\n",
       "    </tr>\n",
       "    <tr>\n",
       "      <td>6</td>\n",
       "      <td>1/11/2000</td>\n",
       "      <td>INFOSYSTCH</td>\n",
       "      <td>EQ</td>\n",
       "      <td>13757.30</td>\n",
       "      <td>13200.00</td>\n",
       "      <td>13800.00</td>\n",
       "      <td>12656.75</td>\n",
       "      <td>12656.75</td>\n",
       "      <td>12656.75</td>\n",
       "      <td>12885.28</td>\n",
       "      <td>122331</td>\n",
       "      <td>1.576270e+14</td>\n",
       "      <td>NaN</td>\n",
       "      <td>NaN</td>\n",
       "      <td>NaN</td>\n",
       "    </tr>\n",
       "    <tr>\n",
       "      <td>7</td>\n",
       "      <td>1/12/2000</td>\n",
       "      <td>INFOSYSTCH</td>\n",
       "      <td>EQ</td>\n",
       "      <td>12656.75</td>\n",
       "      <td>11950.00</td>\n",
       "      <td>13349.00</td>\n",
       "      <td>11766.00</td>\n",
       "      <td>13010.00</td>\n",
       "      <td>13077.55</td>\n",
       "      <td>12873.99</td>\n",
       "      <td>203074</td>\n",
       "      <td>2.614370e+14</td>\n",
       "      <td>NaN</td>\n",
       "      <td>NaN</td>\n",
       "      <td>NaN</td>\n",
       "    </tr>\n",
       "    <tr>\n",
       "      <td>8</td>\n",
       "      <td>1/13/2000</td>\n",
       "      <td>INFOSYSTCH</td>\n",
       "      <td>EQ</td>\n",
       "      <td>13077.55</td>\n",
       "      <td>13100.00</td>\n",
       "      <td>13149.00</td>\n",
       "      <td>12031.35</td>\n",
       "      <td>12033.00</td>\n",
       "      <td>12090.60</td>\n",
       "      <td>12529.38</td>\n",
       "      <td>156550</td>\n",
       "      <td>1.961470e+14</td>\n",
       "      <td>NaN</td>\n",
       "      <td>NaN</td>\n",
       "      <td>NaN</td>\n",
       "    </tr>\n",
       "    <tr>\n",
       "      <td>9</td>\n",
       "      <td>1/14/2000</td>\n",
       "      <td>INFOSYSTCH</td>\n",
       "      <td>EQ</td>\n",
       "      <td>12090.60</td>\n",
       "      <td>12249.00</td>\n",
       "      <td>12297.00</td>\n",
       "      <td>11203.00</td>\n",
       "      <td>12170.00</td>\n",
       "      <td>12176.40</td>\n",
       "      <td>11896.77</td>\n",
       "      <td>125313</td>\n",
       "      <td>1.490820e+14</td>\n",
       "      <td>NaN</td>\n",
       "      <td>NaN</td>\n",
       "      <td>NaN</td>\n",
       "    </tr>\n",
       "  </tbody>\n",
       "</table>\n",
       "</div>"
      ],
      "text/plain": [
       "        Date      Symbol Series  Prev Close      Open      High       Low  \\\n",
       "0   1/3/2000  INFOSYSTCH     EQ    14467.75  15625.00  15625.20  15625.00   \n",
       "1   1/4/2000  INFOSYSTCH     EQ    15625.20  16800.00  16875.25  16253.00   \n",
       "2   1/5/2000  INFOSYSTCH     EQ    16855.90  15701.00  16250.00  15507.45   \n",
       "3   1/6/2000  INFOSYSTCH     EQ    15507.45  15256.65  15300.00  14266.85   \n",
       "4   1/7/2000  INFOSYSTCH     EQ    14266.85  13125.50  13125.50  13125.50   \n",
       "5  1/10/2000  INFOSYSTCH     EQ    13125.50  13125.50  14175.50  12075.50   \n",
       "6  1/11/2000  INFOSYSTCH     EQ    13757.30  13200.00  13800.00  12656.75   \n",
       "7  1/12/2000  INFOSYSTCH     EQ    12656.75  11950.00  13349.00  11766.00   \n",
       "8  1/13/2000  INFOSYSTCH     EQ    13077.55  13100.00  13149.00  12031.35   \n",
       "9  1/14/2000  INFOSYSTCH     EQ    12090.60  12249.00  12297.00  11203.00   \n",
       "\n",
       "       Last     Close      VWAP  Volume      Turnover  Trades  \\\n",
       "0  15625.20  15625.20  15625.18    5137  8.026660e+12     NaN   \n",
       "1  16875.25  16855.90  16646.38   56186  9.352940e+13     NaN   \n",
       "2  15507.45  15507.45  15786.38  164605  2.598520e+14     NaN   \n",
       "3  14266.85  14266.85  14462.82   81997  1.185910e+14     NaN   \n",
       "4  13125.50  13125.50  13125.50    7589  9.960940e+12     NaN   \n",
       "5  13750.00  13757.30  13270.60  236175  3.134180e+14     NaN   \n",
       "6  12656.75  12656.75  12885.28  122331  1.576270e+14     NaN   \n",
       "7  13010.00  13077.55  12873.99  203074  2.614370e+14     NaN   \n",
       "8  12033.00  12090.60  12529.38  156550  1.961470e+14     NaN   \n",
       "9  12170.00  12176.40  11896.77  125313  1.490820e+14     NaN   \n",
       "\n",
       "   Deliverable Volume  %Deliverble  \n",
       "0                 NaN          NaN  \n",
       "1                 NaN          NaN  \n",
       "2                 NaN          NaN  \n",
       "3                 NaN          NaN  \n",
       "4                 NaN          NaN  \n",
       "5                 NaN          NaN  \n",
       "6                 NaN          NaN  \n",
       "7                 NaN          NaN  \n",
       "8                 NaN          NaN  \n",
       "9                 NaN          NaN  "
      ]
     },
     "execution_count": 2,
     "metadata": {},
     "output_type": "execute_result"
    }
   ],
   "source": [
    "#read the file\n",
    "df = pd.read_csv(\"INFY.csv\")\n",
    "\n",
    "#print the head\n",
    "df.head(10)"
   ]
  },
  {
   "cell_type": "code",
   "execution_count": 3,
   "metadata": {},
   "outputs": [
    {
     "name": "stdout",
     "output_type": "stream",
     "text": [
      "<class 'pandas.core.frame.DataFrame'>\n",
      "RangeIndex: 5141 entries, 0 to 5140\n",
      "Data columns (total 15 columns):\n",
      "Date                  5141 non-null object\n",
      "Symbol                5141 non-null object\n",
      "Series                5141 non-null object\n",
      "Prev Close            5141 non-null float64\n",
      "Open                  5141 non-null float64\n",
      "High                  5141 non-null float64\n",
      "Low                   5141 non-null float64\n",
      "Last                  5141 non-null float64\n",
      "Close                 5141 non-null float64\n",
      "VWAP                  5141 non-null float64\n",
      "Volume                5141 non-null int64\n",
      "Turnover              5141 non-null float64\n",
      "Trades                2291 non-null float64\n",
      "Deliverable Volume    4632 non-null float64\n",
      "%Deliverble           4632 non-null float64\n",
      "dtypes: float64(11), int64(1), object(3)\n",
      "memory usage: 602.6+ KB\n"
     ]
    }
   ],
   "source": [
    "df.info()"
   ]
  },
  {
   "cell_type": "code",
   "execution_count": 4,
   "metadata": {},
   "outputs": [
    {
     "data": {
      "text/plain": [
       "Date                   object\n",
       "Symbol                 object\n",
       "Series                 object\n",
       "Prev Close            float64\n",
       "Open                  float64\n",
       "High                  float64\n",
       "Low                   float64\n",
       "Last                  float64\n",
       "Close                 float64\n",
       "VWAP                  float64\n",
       "Volume                  int64\n",
       "Turnover              float64\n",
       "Trades                float64\n",
       "Deliverable Volume    float64\n",
       "%Deliverble           float64\n",
       "dtype: object"
      ]
     },
     "execution_count": 4,
     "metadata": {},
     "output_type": "execute_result"
    }
   ],
   "source": [
    "df.dtypes"
   ]
  },
  {
   "cell_type": "code",
   "execution_count": 5,
   "metadata": {},
   "outputs": [
    {
     "data": {
      "text/html": [
       "<div>\n",
       "<style scoped>\n",
       "    .dataframe tbody tr th:only-of-type {\n",
       "        vertical-align: middle;\n",
       "    }\n",
       "\n",
       "    .dataframe tbody tr th {\n",
       "        vertical-align: top;\n",
       "    }\n",
       "\n",
       "    .dataframe thead th {\n",
       "        text-align: right;\n",
       "    }\n",
       "</style>\n",
       "<table border=\"1\" class=\"dataframe\">\n",
       "  <thead>\n",
       "    <tr style=\"text-align: right;\">\n",
       "      <th></th>\n",
       "      <th>Prev Close</th>\n",
       "      <th>Open</th>\n",
       "      <th>High</th>\n",
       "      <th>Low</th>\n",
       "      <th>Last</th>\n",
       "      <th>Close</th>\n",
       "      <th>VWAP</th>\n",
       "      <th>Volume</th>\n",
       "      <th>Turnover</th>\n",
       "      <th>Trades</th>\n",
       "      <th>Deliverable Volume</th>\n",
       "      <th>%Deliverble</th>\n",
       "    </tr>\n",
       "  </thead>\n",
       "  <tbody>\n",
       "    <tr>\n",
       "      <td>count</td>\n",
       "      <td>5141.000000</td>\n",
       "      <td>5141.000000</td>\n",
       "      <td>5141.000000</td>\n",
       "      <td>5141.000000</td>\n",
       "      <td>5141.000000</td>\n",
       "      <td>5141.000000</td>\n",
       "      <td>5141.000000</td>\n",
       "      <td>5.141000e+03</td>\n",
       "      <td>5.141000e+03</td>\n",
       "      <td>2.291000e+03</td>\n",
       "      <td>4.632000e+03</td>\n",
       "      <td>4632.000000</td>\n",
       "    </tr>\n",
       "    <tr>\n",
       "      <td>mean</td>\n",
       "      <td>2628.606088</td>\n",
       "      <td>2628.838514</td>\n",
       "      <td>2671.242210</td>\n",
       "      <td>2582.234040</td>\n",
       "      <td>2625.734040</td>\n",
       "      <td>2625.972525</td>\n",
       "      <td>2626.861935</td>\n",
       "      <td>2.391975e+06</td>\n",
       "      <td>3.602431e+14</td>\n",
       "      <td>1.048378e+05</td>\n",
       "      <td>1.466766e+06</td>\n",
       "      <td>0.538395</td>\n",
       "    </tr>\n",
       "    <tr>\n",
       "      <td>std</td>\n",
       "      <td>1807.913136</td>\n",
       "      <td>1807.894306</td>\n",
       "      <td>1853.822825</td>\n",
       "      <td>1753.628312</td>\n",
       "      <td>1800.325882</td>\n",
       "      <td>1800.509848</td>\n",
       "      <td>1804.098898</td>\n",
       "      <td>3.957385e+06</td>\n",
       "      <td>3.418480e+14</td>\n",
       "      <td>8.602324e+04</td>\n",
       "      <td>2.194122e+06</td>\n",
       "      <td>0.181506</td>\n",
       "    </tr>\n",
       "    <tr>\n",
       "      <td>min</td>\n",
       "      <td>526.450000</td>\n",
       "      <td>509.250000</td>\n",
       "      <td>558.000000</td>\n",
       "      <td>509.250000</td>\n",
       "      <td>529.150000</td>\n",
       "      <td>526.450000</td>\n",
       "      <td>531.330000</td>\n",
       "      <td>3.291000e+03</td>\n",
       "      <td>2.933190e+12</td>\n",
       "      <td>1.350000e+03</td>\n",
       "      <td>4.352000e+03</td>\n",
       "      <td>0.045800</td>\n",
       "    </tr>\n",
       "    <tr>\n",
       "      <td>25%</td>\n",
       "      <td>1246.550000</td>\n",
       "      <td>1244.000000</td>\n",
       "      <td>1263.950000</td>\n",
       "      <td>1220.800000</td>\n",
       "      <td>1245.000000</td>\n",
       "      <td>1246.100000</td>\n",
       "      <td>1247.120000</td>\n",
       "      <td>7.047210e+05</td>\n",
       "      <td>2.045470e+14</td>\n",
       "      <td>5.751300e+04</td>\n",
       "      <td>3.959088e+05</td>\n",
       "      <td>0.460775</td>\n",
       "    </tr>\n",
       "    <tr>\n",
       "      <td>50%</td>\n",
       "      <td>2315.000000</td>\n",
       "      <td>2315.050000</td>\n",
       "      <td>2340.000000</td>\n",
       "      <td>2282.850000</td>\n",
       "      <td>2314.000000</td>\n",
       "      <td>2314.950000</td>\n",
       "      <td>2315.590000</td>\n",
       "      <td>1.166426e+06</td>\n",
       "      <td>2.854160e+14</td>\n",
       "      <td>8.449900e+04</td>\n",
       "      <td>7.659710e+05</td>\n",
       "      <td>0.584400</td>\n",
       "    </tr>\n",
       "    <tr>\n",
       "      <td>75%</td>\n",
       "      <td>3211.250000</td>\n",
       "      <td>3212.000000</td>\n",
       "      <td>3257.250000</td>\n",
       "      <td>3168.750000</td>\n",
       "      <td>3207.250000</td>\n",
       "      <td>3211.000000</td>\n",
       "      <td>3216.110000</td>\n",
       "      <td>2.514828e+06</td>\n",
       "      <td>4.120370e+14</td>\n",
       "      <td>1.249975e+05</td>\n",
       "      <td>1.800949e+06</td>\n",
       "      <td>0.666575</td>\n",
       "    </tr>\n",
       "    <tr>\n",
       "      <td>max</td>\n",
       "      <td>16855.900000</td>\n",
       "      <td>16800.000000</td>\n",
       "      <td>16875.250000</td>\n",
       "      <td>16253.000000</td>\n",
       "      <td>16875.250000</td>\n",
       "      <td>16855.900000</td>\n",
       "      <td>16646.380000</td>\n",
       "      <td>9.043339e+07</td>\n",
       "      <td>8.323910e+15</td>\n",
       "      <td>1.643015e+06</td>\n",
       "      <td>5.775916e+07</td>\n",
       "      <td>0.996000</td>\n",
       "    </tr>\n",
       "  </tbody>\n",
       "</table>\n",
       "</div>"
      ],
      "text/plain": [
       "         Prev Close          Open          High           Low          Last  \\\n",
       "count   5141.000000   5141.000000   5141.000000   5141.000000   5141.000000   \n",
       "mean    2628.606088   2628.838514   2671.242210   2582.234040   2625.734040   \n",
       "std     1807.913136   1807.894306   1853.822825   1753.628312   1800.325882   \n",
       "min      526.450000    509.250000    558.000000    509.250000    529.150000   \n",
       "25%     1246.550000   1244.000000   1263.950000   1220.800000   1245.000000   \n",
       "50%     2315.000000   2315.050000   2340.000000   2282.850000   2314.000000   \n",
       "75%     3211.250000   3212.000000   3257.250000   3168.750000   3207.250000   \n",
       "max    16855.900000  16800.000000  16875.250000  16253.000000  16875.250000   \n",
       "\n",
       "              Close          VWAP        Volume      Turnover        Trades  \\\n",
       "count   5141.000000   5141.000000  5.141000e+03  5.141000e+03  2.291000e+03   \n",
       "mean    2625.972525   2626.861935  2.391975e+06  3.602431e+14  1.048378e+05   \n",
       "std     1800.509848   1804.098898  3.957385e+06  3.418480e+14  8.602324e+04   \n",
       "min      526.450000    531.330000  3.291000e+03  2.933190e+12  1.350000e+03   \n",
       "25%     1246.100000   1247.120000  7.047210e+05  2.045470e+14  5.751300e+04   \n",
       "50%     2314.950000   2315.590000  1.166426e+06  2.854160e+14  8.449900e+04   \n",
       "75%     3211.000000   3216.110000  2.514828e+06  4.120370e+14  1.249975e+05   \n",
       "max    16855.900000  16646.380000  9.043339e+07  8.323910e+15  1.643015e+06   \n",
       "\n",
       "       Deliverable Volume  %Deliverble  \n",
       "count        4.632000e+03  4632.000000  \n",
       "mean         1.466766e+06     0.538395  \n",
       "std          2.194122e+06     0.181506  \n",
       "min          4.352000e+03     0.045800  \n",
       "25%          3.959088e+05     0.460775  \n",
       "50%          7.659710e+05     0.584400  \n",
       "75%          1.800949e+06     0.666575  \n",
       "max          5.775916e+07     0.996000  "
      ]
     },
     "execution_count": 5,
     "metadata": {},
     "output_type": "execute_result"
    }
   ],
   "source": [
    "#Checking out the statistical measures\n",
    "df.describe()"
   ]
  },
  {
   "cell_type": "markdown",
   "metadata": {},
   "source": [
    "### Feature Engineering"
   ]
  },
  {
   "cell_type": "code",
   "execution_count": 6,
   "metadata": {},
   "outputs": [
    {
     "data": {
      "text/html": [
       "<div>\n",
       "<style scoped>\n",
       "    .dataframe tbody tr th:only-of-type {\n",
       "        vertical-align: middle;\n",
       "    }\n",
       "\n",
       "    .dataframe tbody tr th {\n",
       "        vertical-align: top;\n",
       "    }\n",
       "\n",
       "    .dataframe thead th {\n",
       "        text-align: right;\n",
       "    }\n",
       "</style>\n",
       "<table border=\"1\" class=\"dataframe\">\n",
       "  <thead>\n",
       "    <tr style=\"text-align: right;\">\n",
       "      <th></th>\n",
       "      <th>Month</th>\n",
       "      <th>Week</th>\n",
       "      <th>Day</th>\n",
       "      <th>Day of week</th>\n",
       "    </tr>\n",
       "    <tr>\n",
       "      <th>Date</th>\n",
       "      <th></th>\n",
       "      <th></th>\n",
       "      <th></th>\n",
       "      <th></th>\n",
       "    </tr>\n",
       "  </thead>\n",
       "  <tbody>\n",
       "    <tr>\n",
       "      <td>2000-01-03</td>\n",
       "      <td>1</td>\n",
       "      <td>1</td>\n",
       "      <td>3</td>\n",
       "      <td>0</td>\n",
       "    </tr>\n",
       "    <tr>\n",
       "      <td>2000-01-04</td>\n",
       "      <td>1</td>\n",
       "      <td>1</td>\n",
       "      <td>4</td>\n",
       "      <td>1</td>\n",
       "    </tr>\n",
       "    <tr>\n",
       "      <td>2000-01-05</td>\n",
       "      <td>1</td>\n",
       "      <td>1</td>\n",
       "      <td>5</td>\n",
       "      <td>2</td>\n",
       "    </tr>\n",
       "    <tr>\n",
       "      <td>2000-01-06</td>\n",
       "      <td>1</td>\n",
       "      <td>1</td>\n",
       "      <td>6</td>\n",
       "      <td>3</td>\n",
       "    </tr>\n",
       "    <tr>\n",
       "      <td>2000-01-07</td>\n",
       "      <td>1</td>\n",
       "      <td>1</td>\n",
       "      <td>7</td>\n",
       "      <td>4</td>\n",
       "    </tr>\n",
       "  </tbody>\n",
       "</table>\n",
       "</div>"
      ],
      "text/plain": [
       "            Month  Week  Day  Day of week\n",
       "Date                                     \n",
       "2000-01-03      1     1    3            0\n",
       "2000-01-04      1     1    4            1\n",
       "2000-01-05      1     1    5            2\n",
       "2000-01-06      1     1    6            3\n",
       "2000-01-07      1     1    7            4"
      ]
     },
     "execution_count": 6,
     "metadata": {},
     "output_type": "execute_result"
    }
   ],
   "source": [
    "#Creating a copy\n",
    "df_analysis=df.copy()\n",
    "\n",
    "#Coverting date column to datetime data type\n",
    "df_analysis['Date'] = df_analysis['Date'].apply(pd.to_datetime)\n",
    "\n",
    "#Extracting Month, Week, Day,Day of week\n",
    "df_analysis[\"Month\"] = df_analysis.Date.dt.month\n",
    "df_analysis[\"Week\"] = df_analysis.Date.dt.week\n",
    "df_analysis[\"Day\"] = df_analysis.Date.dt.day\n",
    "df_analysis[\"Day of week\"] = df_analysis.Date.dt.dayofweek\n",
    "\n",
    "\n",
    "#Setting date column as index\n",
    "df_analysis.set_index(\"Date\", drop=False, inplace=True)\n",
    "df_analysis.iloc[:,15:19].head()"
   ]
  },
  {
   "cell_type": "markdown",
   "metadata": {},
   "source": [
    "### Data Cleaning "
   ]
  },
  {
   "cell_type": "code",
   "execution_count": 7,
   "metadata": {},
   "outputs": [
    {
     "data": {
      "text/plain": [
       "Date                  0\n",
       "Symbol                0\n",
       "Series                0\n",
       "Prev Close            0\n",
       "Open                  0\n",
       "High                  0\n",
       "Low                   0\n",
       "Last                  0\n",
       "Close                 0\n",
       "VWAP                  0\n",
       "Volume                0\n",
       "Turnover              0\n",
       "Trades                0\n",
       "Deliverable Volume    0\n",
       "%Deliverble           0\n",
       "Month                 0\n",
       "Week                  0\n",
       "Day                   0\n",
       "Day of week           0\n",
       "dtype: int64"
      ]
     },
     "execution_count": 7,
     "metadata": {},
     "output_type": "execute_result"
    }
   ],
   "source": [
    "#Imputing null values with mean \n",
    "df_analysis.fillna(df_analysis.mean(),inplace=True)\n",
    "\n",
    "#Checking for null values\n",
    "df_analysis.isnull().sum()"
   ]
  },
  {
   "cell_type": "markdown",
   "metadata": {},
   "source": [
    "### Performing Exploratory Data Analysis"
   ]
  },
  {
   "cell_type": "code",
   "execution_count": 8,
   "metadata": {},
   "outputs": [
    {
     "data": {
      "image/png": "[encoded data removed]",
      "text/plain": [
       "<Figure size 720x720 with 6 Axes>"
      ]
     },
     "metadata": {
      "needs_background": "light"
     },
     "output_type": "display_data"
    }
   ],
   "source": [
    "#Size and style of the plot\n",
    "plt.figure(figsize = (15, 7))\n",
    "plt.style.use('seaborn-white')\n",
    "\n",
    "#Subplots of distplot\n",
    "plt.subplot(231)\n",
    "sns.distplot(df_analysis['Prev Close'])\n",
    "fig = plt.gcf()\n",
    "fig.set_size_inches(10,10)\n",
    "\n",
    "plt.subplot(232)\n",
    "sns.distplot(df_analysis['Open'])\n",
    "fig = plt.gcf()\n",
    "fig.set_size_inches(10,10)\n",
    "\n",
    "plt.subplot(233)\n",
    "sns.distplot(df_analysis['High'])\n",
    "fig = plt.gcf()\n",
    "fig.set_size_inches(10,10)\n",
    "\n",
    "plt.subplot(234)\n",
    "sns.distplot(df_analysis['Low'])\n",
    "fig = plt.gcf()\n",
    "fig.set_size_inches(10,10)\n",
    "\n",
    "plt.subplot(235)\n",
    "sns.distplot(df_analysis['Close'])\n",
    "fig = plt.gcf()\n",
    "fig.set_size_inches(10,10)\n",
    "\n",
    "plt.subplot(236)\n",
    "sns.distplot(df_analysis['VWAP'])\n",
    "fig = plt.gcf()\n",
    "fig.set_size_inches(10,10)"
   ]
  },
  {
   "cell_type": "code",
   "execution_count": 9,
   "metadata": {},
   "outputs": [
    {
     "data": {
      "image/png": "[encoded data removed]",
      "text/plain": [
       "<Figure size 792x648 with 4 Axes>"
      ]
     },
     "metadata": {},
     "output_type": "display_data"
    }
   ],
   "source": [
    "cols_plot = ['Open', 'Close', 'High','Low']\n",
    "axes = df_analysis[cols_plot].plot(marker='.', alpha=0.5, linestyle='None', figsize=(11, 9), subplots=True)\n",
    "for ax in axes:\n",
    "    ax.set_ylabel('Daily trade')\n"
   ]
  },
  {
   "cell_type": "markdown",
   "metadata": {},
   "source": [
    "### Data Transformation"
   ]
  },
  {
   "cell_type": "code",
   "execution_count": 10,
   "metadata": {},
   "outputs": [
    {
     "data": {
      "text/plain": [
       "[<matplotlib.lines.Line2D at 0x1b8e3fcfc88>]"
      ]
     },
     "execution_count": 10,
     "metadata": {},
     "output_type": "execute_result"
    },
    {
     "data": {
      "image/png": "[encoded data removed]",
      "text/plain": [
       "<Figure size 1440x576 with 1 Axes>"
      ]
     },
     "metadata": {},
     "output_type": "display_data"
    }
   ],
   "source": [
    "#setting index as date\n",
    "df['Date'] = pd.to_datetime(df.Date,format='%m/%d/%Y')\n",
    "df.index = df['Date']\n",
    "\n",
    "#plot\n",
    "plt.figure(figsize=(20,8))\n",
    "plt.plot(df['Close'], label='Historical Close Price')"
   ]
  },
  {
   "cell_type": "code",
   "execution_count": 11,
   "metadata": {},
   "outputs": [],
   "source": [
    "features = [\"Date\", \"Close\"]\n",
    "all_data = df[features]"
   ]
  },
  {
   "cell_type": "code",
   "execution_count": 12,
   "metadata": {},
   "outputs": [],
   "source": [
    "#setting index\n",
    "all_data.index = all_data.Date\n",
    "all_data.drop('Date', axis=1, inplace=True)"
   ]
  },
  {
   "cell_type": "code",
   "execution_count": 13,
   "metadata": {},
   "outputs": [
    {
     "data": {
      "text/html": [
       "<div>\n",
       "<style scoped>\n",
       "    .dataframe tbody tr th:only-of-type {\n",
       "        vertical-align: middle;\n",
       "    }\n",
       "\n",
       "    .dataframe tbody tr th {\n",
       "        vertical-align: top;\n",
       "    }\n",
       "\n",
       "    .dataframe thead th {\n",
       "        text-align: right;\n",
       "    }\n",
       "</style>\n",
       "<table border=\"1\" class=\"dataframe\">\n",
       "  <thead>\n",
       "    <tr style=\"text-align: right;\">\n",
       "      <th></th>\n",
       "      <th>Close</th>\n",
       "    </tr>\n",
       "    <tr>\n",
       "      <th>Date</th>\n",
       "      <th></th>\n",
       "    </tr>\n",
       "  </thead>\n",
       "  <tbody>\n",
       "    <tr>\n",
       "      <td>2000-01-03</td>\n",
       "      <td>15625.20</td>\n",
       "    </tr>\n",
       "    <tr>\n",
       "      <td>2000-01-04</td>\n",
       "      <td>16855.90</td>\n",
       "    </tr>\n",
       "    <tr>\n",
       "      <td>2000-01-05</td>\n",
       "      <td>15507.45</td>\n",
       "    </tr>\n",
       "    <tr>\n",
       "      <td>2000-01-06</td>\n",
       "      <td>14266.85</td>\n",
       "    </tr>\n",
       "    <tr>\n",
       "      <td>2000-01-07</td>\n",
       "      <td>13125.50</td>\n",
       "    </tr>\n",
       "  </tbody>\n",
       "</table>\n",
       "</div>"
      ],
      "text/plain": [
       "               Close\n",
       "Date                \n",
       "2000-01-03  15625.20\n",
       "2000-01-04  16855.90\n",
       "2000-01-05  15507.45\n",
       "2000-01-06  14266.85\n",
       "2000-01-07  13125.50"
      ]
     },
     "execution_count": 13,
     "metadata": {},
     "output_type": "execute_result"
    }
   ],
   "source": [
    "all_data.head()"
   ]
  },
  {
   "cell_type": "code",
   "execution_count": 14,
   "metadata": {},
   "outputs": [
    {
     "data": {
      "text/plain": [
       "(5141, 1)"
      ]
     },
     "execution_count": 14,
     "metadata": {},
     "output_type": "execute_result"
    }
   ],
   "source": [
    "all_data.shape"
   ]
  },
  {
   "cell_type": "markdown",
   "metadata": {},
   "source": [
    "### Non randomized Train-Test Split to preserve Serial Nature"
   ]
  },
  {
   "cell_type": "code",
   "execution_count": 15,
   "metadata": {},
   "outputs": [],
   "source": [
    "#creating training and validation sets\n",
    "dataset = all_data.values\n",
    "\n",
    "train = dataset[0:4500,:]\n",
    "valid = dataset[4500:,:]"
   ]
  },
  {
   "cell_type": "markdown",
   "metadata": {},
   "source": [
    "#### Scaling"
   ]
  },
  {
   "cell_type": "code",
   "execution_count": 16,
   "metadata": {},
   "outputs": [],
   "source": [
    "scaler = MinMaxScaler(feature_range=(0, 1))\n",
    "scaled_data = scaler.fit_transform(dataset)"
   ]
  },
  {
   "cell_type": "code",
   "execution_count": 17,
   "metadata": {},
   "outputs": [],
   "source": [
    "x_train, y_train = [], []\n",
    "for i in range(90,len(train)):\n",
    "    x_train.append(scaled_data[i-90:i,0])\n",
    "    y_train.append(scaled_data[i,0])\n",
    "x_train, y_train = np.array(x_train), np.array(y_train)"
   ]
  },
  {
   "cell_type": "code",
   "execution_count": 18,
   "metadata": {},
   "outputs": [],
   "source": [
    "x_train = np.reshape(x_train, (x_train.shape[0],x_train.shape[1],1))"
   ]
  },
  {
   "cell_type": "markdown",
   "metadata": {},
   "source": [
    "### Building and Training a Stacked LSTM(Long Short Term Memory) Recurrent Neural Network"
   ]
  },
  {
   "cell_type": "code",
   "execution_count": 19,
   "metadata": {},
   "outputs": [
    {
     "name": "stdout",
     "output_type": "stream",
     "text": [
      "WARNING:tensorflow:From C:\\ProgramData\\Anaconda3\\lib\\site-packages\\tensorflow_core\\python\\ops\\resource_variable_ops.py:1630: calling BaseResourceVariable.__init__ (from tensorflow.python.ops.resource_variable_ops) with constraint is deprecated and will be removed in a future version.\n",
      "Instructions for updating:\n",
      "If using Keras pass *_constraint arguments to layers.\n",
      "WARNING:tensorflow:From C:\\ProgramData\\Anaconda3\\lib\\site-packages\\keras\\backend\\tensorflow_backend.py:74: The name tf.get_default_graph is deprecated. Please use tf.compat.v1.get_default_graph instead.\n",
      "\n"
     ]
    },
    {
     "ename": "TypeError",
     "evalue": "The added layer must be an instance of class Layer. Found: <keras.layers.core.Dropout object at 0x000001B8E42E6908>",
     "output_type": "error",
     "traceback": [
      "\u001b[1;31m---------------------------------------------------------------------------\u001b[0m",
      "\u001b[1;31mTypeError\u001b[0m                                 Traceback (most recent call last)",
      "\u001b[1;32m<ipython-input-19-66ef32b56d31>\u001b[0m in \u001b[0;36m<module>\u001b[1;34m\u001b[0m\n\u001b[0;32m      2\u001b[0m \u001b[0mmodel\u001b[0m \u001b[1;33m=\u001b[0m \u001b[0mSequential\u001b[0m\u001b[1;33m(\u001b[0m\u001b[1;33m)\u001b[0m\u001b[1;33m\u001b[0m\u001b[1;33m\u001b[0m\u001b[0m\n\u001b[0;32m      3\u001b[0m \u001b[0mmodel\u001b[0m\u001b[1;33m.\u001b[0m\u001b[0madd\u001b[0m\u001b[1;33m(\u001b[0m\u001b[0mLSTM\u001b[0m\u001b[1;33m(\u001b[0m\u001b[0munits\u001b[0m\u001b[1;33m=\u001b[0m\u001b[1;36m50\u001b[0m\u001b[1;33m,\u001b[0m \u001b[0mreturn_sequences\u001b[0m\u001b[1;33m=\u001b[0m\u001b[1;32mTrue\u001b[0m\u001b[1;33m,\u001b[0m \u001b[0minput_shape\u001b[0m\u001b[1;33m=\u001b[0m\u001b[1;33m(\u001b[0m\u001b[0mx_train\u001b[0m\u001b[1;33m.\u001b[0m\u001b[0mshape\u001b[0m\u001b[1;33m[\u001b[0m\u001b[1;36m1\u001b[0m\u001b[1;33m]\u001b[0m\u001b[1;33m,\u001b[0m\u001b[1;36m1\u001b[0m\u001b[1;33m)\u001b[0m\u001b[1;33m)\u001b[0m\u001b[1;33m)\u001b[0m\u001b[1;33m\u001b[0m\u001b[1;33m\u001b[0m\u001b[0m\n\u001b[1;32m----> 4\u001b[1;33m \u001b[0mmodel\u001b[0m\u001b[1;33m.\u001b[0m\u001b[0madd\u001b[0m\u001b[1;33m(\u001b[0m\u001b[0mDropout\u001b[0m\u001b[1;33m(\u001b[0m\u001b[0mrate\u001b[0m \u001b[1;33m=\u001b[0m \u001b[1;36m0.2\u001b[0m\u001b[1;33m)\u001b[0m\u001b[1;33m)\u001b[0m\u001b[1;33m\u001b[0m\u001b[1;33m\u001b[0m\u001b[0m\n\u001b[0m\u001b[0;32m      5\u001b[0m \u001b[1;33m\u001b[0m\u001b[0m\n\u001b[0;32m      6\u001b[0m \u001b[0mmodel\u001b[0m\u001b[1;33m.\u001b[0m\u001b[0madd\u001b[0m\u001b[1;33m(\u001b[0m\u001b[0mLSTM\u001b[0m\u001b[1;33m(\u001b[0m\u001b[0munits\u001b[0m\u001b[1;33m=\u001b[0m\u001b[1;36m50\u001b[0m\u001b[1;33m,\u001b[0m \u001b[0mreturn_sequences\u001b[0m \u001b[1;33m=\u001b[0m \u001b[1;32mTrue\u001b[0m\u001b[1;33m)\u001b[0m\u001b[1;33m)\u001b[0m\u001b[1;33m\u001b[0m\u001b[1;33m\u001b[0m\u001b[0m\n",
      "\u001b[1;32mC:\\ProgramData\\Anaconda3\\lib\\site-packages\\tensorflow_core\\python\\training\\tracking\\base.py\u001b[0m in \u001b[0;36m_method_wrapper\u001b[1;34m(self, *args, **kwargs)\u001b[0m\n\u001b[0;32m    455\u001b[0m     \u001b[0mself\u001b[0m\u001b[1;33m.\u001b[0m\u001b[0m_self_setattr_tracking\u001b[0m \u001b[1;33m=\u001b[0m \u001b[1;32mFalse\u001b[0m  \u001b[1;31m# pylint: disable=protected-access\u001b[0m\u001b[1;33m\u001b[0m\u001b[1;33m\u001b[0m\u001b[0m\n\u001b[0;32m    456\u001b[0m     \u001b[1;32mtry\u001b[0m\u001b[1;33m:\u001b[0m\u001b[1;33m\u001b[0m\u001b[1;33m\u001b[0m\u001b[0m\n\u001b[1;32m--> 457\u001b[1;33m       \u001b[0mresult\u001b[0m \u001b[1;33m=\u001b[0m \u001b[0mmethod\u001b[0m\u001b[1;33m(\u001b[0m\u001b[0mself\u001b[0m\u001b[1;33m,\u001b[0m \u001b[1;33m*\u001b[0m\u001b[0margs\u001b[0m\u001b[1;33m,\u001b[0m \u001b[1;33m**\u001b[0m\u001b[0mkwargs\u001b[0m\u001b[1;33m)\u001b[0m\u001b[1;33m\u001b[0m\u001b[1;33m\u001b[0m\u001b[0m\n\u001b[0m\u001b[0;32m    458\u001b[0m     \u001b[1;32mfinally\u001b[0m\u001b[1;33m:\u001b[0m\u001b[1;33m\u001b[0m\u001b[1;33m\u001b[0m\u001b[0m\n\u001b[0;32m    459\u001b[0m       \u001b[0mself\u001b[0m\u001b[1;33m.\u001b[0m\u001b[0m_self_setattr_tracking\u001b[0m \u001b[1;33m=\u001b[0m \u001b[0mprevious_value\u001b[0m  \u001b[1;31m# pylint: disable=protected-access\u001b[0m\u001b[1;33m\u001b[0m\u001b[1;33m\u001b[0m\u001b[0m\n",
      "\u001b[1;32mC:\\ProgramData\\Anaconda3\\lib\\site-packages\\tensorflow_core\\python\\keras\\engine\\sequential.py\u001b[0m in \u001b[0;36madd\u001b[1;34m(self, layer)\u001b[0m\n\u001b[0;32m    155\u001b[0m       raise TypeError('The added layer must be '\n\u001b[0;32m    156\u001b[0m                       \u001b[1;34m'an instance of class Layer. '\u001b[0m\u001b[1;33m\u001b[0m\u001b[1;33m\u001b[0m\u001b[0m\n\u001b[1;32m--> 157\u001b[1;33m                       'Found: ' + str(layer))\n\u001b[0m\u001b[0;32m    158\u001b[0m \u001b[1;33m\u001b[0m\u001b[0m\n\u001b[0;32m    159\u001b[0m     \u001b[0mtf_utils\u001b[0m\u001b[1;33m.\u001b[0m\u001b[0massert_no_legacy_layers\u001b[0m\u001b[1;33m(\u001b[0m\u001b[1;33m[\u001b[0m\u001b[0mlayer\u001b[0m\u001b[1;33m]\u001b[0m\u001b[1;33m)\u001b[0m\u001b[1;33m\u001b[0m\u001b[1;33m\u001b[0m\u001b[0m\n",
      "\u001b[1;31mTypeError\u001b[0m: The added layer must be an instance of class Layer. Found: <keras.layers.core.Dropout object at 0x000001B8E42E6908>"
     ]
    }
   ],
   "source": [
    "# create and fit the LSTM network\n",
    "model = Sequential()\n",
    "model.add(LSTM(units=50, return_sequences=True, input_shape=(x_train.shape[1],1)))\n",
    "model.add(Dropout(rate = 0.2))\n",
    "\n",
    "model.add(LSTM(units=50, return_sequences = True))\n",
    "model.add(Dropout(rate = 0.2))\n",
    "\n",
    "model.add(LSTM(units=50, return_sequences = True))\n",
    "model.add(Dropout(rate = 0.2))\n",
    "\n",
    "model.add(LSTM(units=50, return_sequences = False))\n",
    "model.add(Dropout(rate = 0.2))\n",
    "\n",
    "model.add(Dense(1))"
   ]
  },
  {
   "cell_type": "code",
   "execution_count": null,
   "metadata": {},
   "outputs": [],
   "source": [
    "model.compile(loss='mean_squared_error', optimizer='adam')"
   ]
  },
  {
   "cell_type": "code",
   "execution_count": null,
   "metadata": {},
   "outputs": [],
   "source": [
    "model.fit(x_train, y_train, epochs=100, batch_size=64, verbose=1)"
   ]
  },
  {
   "cell_type": "code",
   "execution_count": null,
   "metadata": {},
   "outputs": [],
   "source": [
    "#predicting test data values, using past 90 from the train data\n",
    "inputs = all_data[len(all_data) - len(valid)-90:].values\n",
    "inputs = inputs.reshape(-1,1)\n",
    "inputs  = scaler.transform(inputs)"
   ]
  },
  {
   "cell_type": "code",
   "execution_count": null,
   "metadata": {},
   "outputs": [],
   "source": [
    "inputs.shape"
   ]
  },
  {
   "cell_type": "code",
   "execution_count": null,
   "metadata": {},
   "outputs": [],
   "source": [
    "X_test = []\n",
    "for i in range(90,inputs.shape[0]):\n",
    "    X_test.append(inputs[i-90:i,0])\n",
    "X_test = np.array(X_test)\n"
   ]
  },
  {
   "cell_type": "code",
   "execution_count": null,
   "metadata": {},
   "outputs": [],
   "source": [
    "X_test.shape"
   ]
  },
  {
   "cell_type": "code",
   "execution_count": null,
   "metadata": {},
   "outputs": [],
   "source": [
    "X_test = np.reshape(X_test, (X_test.shape[0],X_test.shape[1],1))\n",
    "preds = model.predict(X_test)\n",
    "preds = scaler.inverse_transform(preds)"
   ]
  },
  {
   "cell_type": "markdown",
   "metadata": {},
   "source": [
    "### Root Mean Square Evaluation"
   ]
  },
  {
   "cell_type": "code",
   "execution_count": null,
   "metadata": {},
   "outputs": [],
   "source": [
    "rms=np.sqrt(np.mean(np.power((valid-preds),2)))\n",
    "print(f\"Root Mean Square Error:{rms}\")"
   ]
  },
  {
   "cell_type": "markdown",
   "metadata": {},
   "source": [
    "### Visualize Prediction using matplotlib"
   ]
  },
  {
   "cell_type": "code",
   "execution_count": null,
   "metadata": {},
   "outputs": [],
   "source": [
    "#for plotting\n",
    "train = all_data[0:4500]\n",
    "valid = all_data[4500:]\n",
    "valid['Predictions'] = preds\n",
    "plt.figure(figsize=(20,8))\n",
    "plt.plot(train['Close'])\n",
    "plt.plot(valid['Close'], color = 'blue', label = 'Real Price')\n",
    "plt.plot(valid['Predictions'], color = 'orange', label = 'Predicted Price')\n",
    "plt.title('INFOSYS Stock price prediction')\n",
    "plt.xlabel('Time')\n",
    "plt.ylabel('Infosys Stock Price')\n",
    "plt.legend()\n",
    "plt.show()"
   ]
  },
  {
   "cell_type": "markdown",
   "metadata": {},
   "source": [
    "### Clear Visualisation"
   ]
  },
  {
   "cell_type": "code",
   "execution_count": null,
   "metadata": {},
   "outputs": [],
   "source": [
    "# Visualising the results\n",
    "plt.plot(valid['Close'], color = 'blue', label = 'Real  Stock Price')\n",
    "plt.plot(valid['Predictions'], color = 'orange', label = 'Predicted  Stock Price')\n",
    "plt.title('Infosys Stock Price Prediction')\n",
    "plt.xlabel('Time')\n",
    "plt.ylabel('Infosys Stock Price')\n",
    "plt.legend()\n",
    "plt.show()"
   ]
  },
  {
   "cell_type": "code",
   "execution_count": null,
   "metadata": {},
   "outputs": [],
   "source": []
  }
 ],
 "metadata": {
  "kernelspec": {
   "display_name": "Python 3",
   "language": "python",
   "name": "python3"
  },
  "language_info": {
   "codemirror_mode": {
    "name": "ipython",
    "version": 3
   },
   "file_extension": ".py",
   "mimetype": "text/x-python",
   "name": "python",
   "nbconvert_exporter": "python",
   "pygments_lexer": "ipython3",
   "version": "3.7.4"
  }
 },
 "nbformat": 4,
 "nbformat_minor": 4
}
